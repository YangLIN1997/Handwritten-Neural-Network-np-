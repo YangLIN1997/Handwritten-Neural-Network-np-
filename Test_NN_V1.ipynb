{
 "cells": [
  {
   "cell_type": "markdown",
   "metadata": {},
   "source": [
    "# Deep Neural Network for Multiclass Classfication\n",
    "##### 1. Load data and preprocessing\n",
    "##### 2. Use NN\n",
    "##### 3. Train with full data set\n",
    "\n",
    "##### Dataset: \n",
    "    fashion mnist\n",
    "\n",
    "##### Deep Neural Network:\n",
    "    Handwritten neural network with numpy, math and matplotlib libraries only\n",
    "    Functionalities:         \n",
    "            weight initialization: \"random\", \"he\", \"xavier\" or \"heuristic\"\n",
    "            activation function: \"sigmoid\", \"relu\" or \"leaky_relu\"\n",
    "            gradient descent: \"batch\", \"mini batch\" or \"stochastic\"\n",
    "            optimization: \"gradient descent\", \"momentum\", \"RMSProp\" or \"adam\"\n",
    "            regulation: \"L2\", \"dropout\" or \"batch normalization\"\n",
    "            early stoping: stop training when cost is low\n"
   ]
  },
  {
   "cell_type": "markdown",
   "metadata": {},
   "source": [
    "## 1. Load data and preprocessing"
   ]
  },
  {
   "cell_type": "markdown",
   "metadata": {},
   "source": [
    "### 1.1 Load data"
   ]
  },
  {
   "cell_type": "code",
   "execution_count": 11,
   "metadata": {},
   "outputs": [],
   "source": [
    "from utils import mnist_reader\n",
    "X_train, y_train = mnist_reader.load_mnist('fashion', kind='train')\n",
    "X_test, y_test = mnist_reader.load_mnist('fashion', kind='t10k')"
   ]
  },
  {
   "cell_type": "markdown",
   "metadata": {},
   "source": [
    "### 1.2 Split data"
   ]
  },
  {
   "cell_type": "code",
   "execution_count": 12,
   "metadata": {},
   "outputs": [],
   "source": [
    "from sklearn.model_selection import train_test_split\n",
    "X_train, X_val, y_train, y_val = train_test_split(X_train, y_train, test_size=0.2, random_state=666)"
   ]
  },
  {
   "cell_type": "markdown",
   "metadata": {},
   "source": [
    "### 1.3 Standardlize data"
   ]
  },
  {
   "cell_type": "code",
   "execution_count": 13,
   "metadata": {},
   "outputs": [
    {
     "name": "stderr",
     "output_type": "stream",
     "text": [
      "G:\\Anaconda3\\lib\\site-packages\\sklearn\\utils\\validation.py:595: DataConversionWarning: Data with input dtype uint8 was converted to float64 by StandardScaler.\n",
      "  warnings.warn(msg, DataConversionWarning)\n"
     ]
    },
    {
     "data": {
      "text/plain": [
       "StandardScaler(copy=True, with_mean=True, with_std=True)"
      ]
     },
     "execution_count": 13,
     "metadata": {},
     "output_type": "execute_result"
    }
   ],
   "source": [
    "from sklearn.preprocessing import StandardScaler\n",
    "standardScaler = StandardScaler()\n",
    "standardScaler.fit(X_train)"
   ]
  },
  {
   "cell_type": "code",
   "execution_count": 14,
   "metadata": {},
   "outputs": [
    {
     "name": "stderr",
     "output_type": "stream",
     "text": [
      "G:\\Anaconda3\\lib\\site-packages\\sklearn\\utils\\validation.py:595: DataConversionWarning: Data with input dtype uint8 was converted to float64 by StandardScaler.\n",
      "  warnings.warn(msg, DataConversionWarning)\n",
      "G:\\Anaconda3\\lib\\site-packages\\sklearn\\utils\\validation.py:595: DataConversionWarning: Data with input dtype uint8 was converted to float64 by StandardScaler.\n",
      "  warnings.warn(msg, DataConversionWarning)\n",
      "G:\\Anaconda3\\lib\\site-packages\\sklearn\\utils\\validation.py:595: DataConversionWarning: Data with input dtype uint8 was converted to float64 by StandardScaler.\n",
      "  warnings.warn(msg, DataConversionWarning)\n"
     ]
    }
   ],
   "source": [
    "X_train_standard = standardScaler.transform(X_train).T\n",
    "X_val_standard = standardScaler.transform(X_val).T\n",
    "X_test_standard = standardScaler.transform(X_test).T\n"
   ]
  },
  {
   "cell_type": "code",
   "execution_count": 15,
   "metadata": {},
   "outputs": [],
   "source": [
    "y_train = y_train.T\n",
    "y_val = y_val.T\n",
    "from sklearn import preprocessing\n",
    "lb = preprocessing.LabelBinarizer()\n",
    "lb.fit([0,1,2,3,4,5,6,7,8,9])\n",
    "y_train=lb.transform(y_train).T\n",
    "# y_val=lb.transform(y_val).T"
   ]
  },
  {
   "cell_type": "code",
   "execution_count": 16,
   "metadata": {},
   "outputs": [
    {
     "name": "stdout",
     "output_type": "stream",
     "text": [
      "X_train_standard.shape: (784, 5000)\n",
      "y_train.shape: (10, 5000)\n",
      "X_val_standard.shape: (784, 12000)\n",
      "y_val.shape: (12000,)\n"
     ]
    }
   ],
   "source": [
    "X_train_standard = X_train_standard[:,0:5000]\n",
    "y_train = y_train[:,0:5000]\n",
    "\n",
    "print('X_train_standard.shape:', X_train_standard.shape)\n",
    "print('y_train.shape:', y_train.shape)\n",
    "print('X_val_standard.shape:', X_val_standard.shape)\n",
    "print('y_val.shape:', y_val.shape)"
   ]
  },
  {
   "cell_type": "markdown",
   "metadata": {},
   "source": [
    "### 1.4 PCA "
   ]
  },
  {
   "cell_type": "code",
   "execution_count": 43,
   "metadata": {},
   "outputs": [],
   "source": [
    "from scipy import linalg\n",
    "U,s,VT = linalg.svd(X_train_standard)\n",
    "X_train_standard_pca=U[:,:100].T.dot(X_train_standard)\n",
    "X_val_standard_pca= U[:,:100].T.dot(X_val_standard)\n",
    "X_test_standard_pca = U[:,:100].T.dot(X_test_standard)\n"
   ]
  },
  {
   "cell_type": "code",
   "execution_count": 18,
   "metadata": {},
   "outputs": [],
   "source": [
    "# both are ok\n",
    "# from scipy import linalg\n",
    "# U,s,VT = linalg.svd(X_train_standard.T)\n",
    "# X_train_standard_pca=X_train_standard.T.dot(VT.T[:,:100]).T\n",
    "# X_val_standard_pca=X_val_standard.T.dot(VT.T[:,:100]).T\n",
    "# X_test_standard_pca = X_test_standard.T.dot(VT.T[:,:100]).T"
   ]
  },
  {
   "cell_type": "markdown",
   "metadata": {},
   "source": [
    "## 2. Use NN\n"
   ]
  },
  {
   "cell_type": "code",
   "execution_count": 49,
   "metadata": {},
   "outputs": [
    {
     "name": "stdout",
     "output_type": "stream",
     "text": [
      "Mini Batch Gradient Descent...\n",
      "Total cost after iteration 0: 12.273330\n",
      "Total cost after iteration 5: 8.960242\n",
      "Total cost after iteration 10: 7.417227\n",
      "Total cost after iteration 15: 6.398600\n",
      "Total cost after iteration 20: 5.652895\n",
      "Total cost after iteration 25: 5.056559\n",
      "Total cost after iteration 30: 4.586583\n",
      "Total cost after iteration 35: 4.191464\n",
      "Total cost after iteration 40: 3.858103\n",
      "Total cost after iteration 45: 3.581915\n",
      "Total cost after iteration 50: 3.336188\n",
      "Total cost after iteration 55: 3.115692\n",
      "Total cost after iteration 60: 2.936546\n",
      "Total cost after iteration 65: 2.784578\n",
      "Total cost after iteration 70: 2.638263\n",
      "Total cost after iteration 75: 2.503582\n",
      "Total cost after iteration 80: 2.398381\n",
      "Total cost after iteration 85: 2.282845\n",
      "Total cost after iteration 90: 2.182244\n",
      "Total cost after iteration 95: 2.110333\n",
      "Total cost after iteration 100: 2.033852\n",
      "Total cost after iteration 105: 1.945765\n",
      "Total cost after iteration 110: 1.876367\n",
      "Total cost after iteration 115: 1.829866\n",
      "Total cost after iteration 120: 1.770621\n",
      "Total cost after iteration 125: 1.727091\n",
      "Total cost after iteration 130: 1.681257\n",
      "Total cost after iteration 135: 1.621864\n",
      "Total cost after iteration 140: 1.601720\n",
      "Total cost after iteration 145: 1.536271\n",
      "Total cost after iteration 150: 1.515571\n",
      "Total cost after iteration 155: 1.476690\n",
      "Total cost after iteration 160: 1.455171\n",
      "Total cost after iteration 165: 1.426571\n",
      "Total cost after iteration 170: 1.400096\n",
      "Total cost after iteration 175: 1.367920\n",
      "Total cost after iteration 180: 1.354762\n",
      "Total cost after iteration 185: 1.326123\n",
      "Total cost after iteration 190: 1.301692\n",
      "Total cost after iteration 195: 1.301862\n",
      "Total cost after iteration 200: 1.267083\n",
      "Total cost after iteration 205: 1.252680\n",
      "Total cost after iteration 210: 1.224621\n",
      "Total cost after iteration 215: 1.214625\n",
      "Total cost after iteration 220: 1.194908\n",
      "Total cost after iteration 225: 1.178821\n",
      "Total cost after iteration 230: 1.149173\n",
      "Total cost after iteration 235: 1.150409\n",
      "Total cost after iteration 240: 1.144167\n",
      "Total cost after iteration 245: 1.132105\n",
      "Total cost after iteration 250: 1.123685\n"
     ]
    },
    {
     "data": {
      "image/png": "[encoded data removed]",
      "text/plain": [
       "<Figure size 432x288 with 1 Axes>"
      ]
     },
     "metadata": {
      "needs_background": "light"
     },
     "output_type": "display_data"
    },
    {
     "data": {
      "text/plain": [
       "<__main__.NN at 0x2619ccfef98>"
      ]
     },
     "execution_count": 49,
     "metadata": {},
     "output_type": "execute_result"
    }
   ],
   "source": [
    "%run NN_V1.py\n",
    "NN_classifier = NN(L_dim = [X_train_standard_pca.shape[0], 100,10],\n",
    "                   initialization=\"he\",activation=\"relu\",\n",
    "                      learning_rate = 0.001,num_iterations = 1000,early_stop=True, cost_stop=1.1,\n",
    "                      batch=False, mini_batch=True,mini_batch_size=256,\n",
    "                      optimizer=\"adam\", beta = 0.9, beta1 = 0.9, beta2 = 0.999,  epsilon = 1e-6,\n",
    "                      lambd=1,keep_prob = 0.7,\n",
    "                      batchnormalization = True,\n",
    "                      print_cost = True, print_cost_every_n_iterations=50)\n",
    "NN_classifier.fit(X_train_standard_pca, y_train)"
   ]
  },
  {
   "cell_type": "code",
   "execution_count": 50,
   "metadata": {},
   "outputs": [
    {
     "name": "stdout",
     "output_type": "stream",
     "text": [
      "Accuracy: 0.8545\n"
     ]
    }
   ],
   "source": [
    "pred_train = NN_classifier.predict(X_val_standard_pca, y_val)"
   ]
  },
  {
   "cell_type": "code",
   "execution_count": 51,
   "metadata": {},
   "outputs": [
    {
     "name": "stdout",
     "output_type": "stream",
     "text": [
      "Accuracy: 0.8422000000000003\n"
     ]
    }
   ],
   "source": [
    "pred_train = NN_classifier.predict(X_test_standard_pca, y_test)"
   ]
  },
  {
   "cell_type": "code",
   "execution_count": null,
   "metadata": {},
   "outputs": [],
   "source": []
  },
  {
   "cell_type": "markdown",
   "metadata": {},
   "source": [
    "## 3. Train with full data set"
   ]
  },
  {
   "cell_type": "code",
   "execution_count": 1,
   "metadata": {},
   "outputs": [
    {
     "name": "stderr",
     "output_type": "stream",
     "text": [
      "G:\\Anaconda3\\lib\\site-packages\\sklearn\\utils\\validation.py:595: DataConversionWarning: Data with input dtype uint8 was converted to float64 by StandardScaler.\n",
      "  warnings.warn(msg, DataConversionWarning)\n",
      "G:\\Anaconda3\\lib\\site-packages\\sklearn\\utils\\validation.py:595: DataConversionWarning: Data with input dtype uint8 was converted to float64 by StandardScaler.\n",
      "  warnings.warn(msg, DataConversionWarning)\n",
      "G:\\Anaconda3\\lib\\site-packages\\sklearn\\utils\\validation.py:595: DataConversionWarning: Data with input dtype uint8 was converted to float64 by StandardScaler.\n",
      "  warnings.warn(msg, DataConversionWarning)\n"
     ]
    }
   ],
   "source": [
    "from utils import mnist_reader\n",
    "X_train, y_train = mnist_reader.load_mnist('fashion', kind='train')\n",
    "X_test, y_test = mnist_reader.load_mnist('fashion', kind='t10k')\n",
    "from sklearn.preprocessing import StandardScaler\n",
    "standardScaler = StandardScaler()\n",
    "standardScaler.fit(X_train)\n",
    "\n",
    "X_train_standard = standardScaler.transform(X_train).T\n",
    "X_test_standard = standardScaler.transform(X_test).T\n",
    "\n",
    "y_train = y_train.T\n",
    "y_test = y_test.T\n",
    "from sklearn import preprocessing\n",
    "lb = preprocessing.LabelBinarizer()\n",
    "lb.fit([0,1,2,3,4,5,6,7,8,9])\n",
    "y_train=lb.transform(y_train).T"
   ]
  },
  {
   "cell_type": "code",
   "execution_count": 4,
   "metadata": {},
   "outputs": [
    {
     "name": "stdout",
     "output_type": "stream",
     "text": [
      "Wall time: 4.11 s\n"
     ]
    }
   ],
   "source": [
    "%%time\n",
    "from sklearn.decomposition import PCA\n",
    "\n",
    "pca = PCA(0.9)\n",
    "pca.fit(X_train_standard.T)\n",
    "X_train_standard_pca = pca.transform(X_train_standard.T).T\n",
    "\n",
    "# X_val_PCA = pca.transform(X_val) \n",
    "\n",
    "X_test_standard_pca = pca.transform(X_test_standard.T).T\n",
    "# from scipy import linalg\n",
    "# U,s,VT = linalg.svd(X_train_standard)\n",
    "# X_train_standard_pca=U[:,:100].T.dot(X_train_standard)\n",
    "# X_test_standard_pca = U[:,:100].T.dot(X_test_standard)"
   ]
  },
  {
   "cell_type": "code",
   "execution_count": 6,
   "metadata": {},
   "outputs": [
    {
     "data": {
      "text/plain": [
       "(137, 10000)"
      ]
     },
     "execution_count": 6,
     "metadata": {},
     "output_type": "execute_result"
    }
   ],
   "source": [
    "X_test_standard_pca.shape"
   ]
  },
  {
   "cell_type": "code",
   "execution_count": 23,
   "metadata": {},
   "outputs": [
    {
     "name": "stdout",
     "output_type": "stream",
     "text": [
      "Mini Batch Gradient Descent...\n",
      "Total cost after iteration 0: 10.766085\n",
      "Total cost after iteration 5: 7.775381\n",
      "Total cost after iteration 10: 6.417362\n",
      "Total cost after iteration 15: 5.487882\n",
      "Total cost after iteration 20: 4.793293\n",
      "Total cost after iteration 25: 4.250079\n",
      "Total cost after iteration 30: 3.811082\n",
      "Total cost after iteration 35: 3.440228\n",
      "Total cost after iteration 40: 3.127758\n",
      "Total cost after iteration 45: 2.857755\n",
      "Total cost after iteration 50: 2.620305\n",
      "Total cost after iteration 55: 2.416975\n",
      "Total cost after iteration 60: 2.233904\n",
      "Total cost after iteration 65: 2.072013\n",
      "Total cost after iteration 70: 1.931303\n",
      "Total cost after iteration 75: 1.805336\n",
      "Total cost after iteration 80: 1.698781\n",
      "Total cost after iteration 85: 1.604930\n",
      "Total cost after iteration 90: 1.516152\n",
      "Total cost after iteration 95: 1.438370\n",
      "Total cost after iteration 100: 1.374415\n",
      "Total cost after iteration 105: 1.310270\n",
      "Total cost after iteration 110: 1.261043\n",
      "Total cost after iteration 115: 1.214014\n",
      "Total cost after iteration 120: 1.175027\n",
      "Total cost after iteration 125: 1.138192\n",
      "Total cost after iteration 130: 1.103242\n",
      "Total cost after iteration 135: 1.080149\n",
      "Total cost after iteration 140: 1.050597\n",
      "Total cost after iteration 145: 1.028174\n",
      "Total cost after iteration 150: 1.003128\n",
      "Total cost after iteration 155: 0.983277\n",
      "Total cost after iteration 160: 0.967671\n",
      "Total cost after iteration 165: 0.955620\n",
      "Total cost after iteration 170: 0.940850\n",
      "Total cost after iteration 175: 0.932541\n",
      "Total cost after iteration 180: 0.916302\n",
      "Total cost after iteration 185: 0.907994\n",
      "Total cost after iteration 190: 0.902158\n",
      "Total cost after iteration 195: 0.886067\n"
     ]
    },
    {
     "data": {
      "image/png": "[encoded data removed]",
      "text/plain": [
       "<Figure size 432x288 with 1 Axes>"
      ]
     },
     "metadata": {
      "needs_background": "light"
     },
     "output_type": "display_data"
    },
    {
     "data": {
      "text/plain": [
       "<__main__.NN at 0x1aaa04965f8>"
      ]
     },
     "execution_count": 23,
     "metadata": {},
     "output_type": "execute_result"
    }
   ],
   "source": [
    "%run NN_V1.py\n",
    "NN_classifier = NN(L_dim = [X_train_standard_pca.shape[0], 100,10],\n",
    "                   initialization=\"he\",activation=\"relu\",\n",
    "                      learning_rate = 0.0001,num_iterations = 200,early_stop=True, cost_stop=0.8,\n",
    "                      batch=False, mini_batch=True,mini_batch_size=256,\n",
    "                      optimizer=\"adam\", beta = 0.9, beta1 = 0.9, beta2 = 0.999,  epsilon = 1e-6,\n",
    "                      lambd=0.8,keep_prob = 0.7,\n",
    "                      batchnormalization = True,\n",
    "                      print_cost = True, print_cost_every_n_iterations=20)\n",
    "NN_classifier.fit(X_train_standard_pca, y_train)"
   ]
  },
  {
   "cell_type": "code",
   "execution_count": 24,
   "metadata": {},
   "outputs": [
    {
     "name": "stdout",
     "output_type": "stream",
     "text": [
      "Accuracy: 0.8697000000000004\n"
     ]
    }
   ],
   "source": [
    "pred_train = NN_classifier.predict(X_test_standard_pca, y_test)"
   ]
  },
  {
   "cell_type": "code",
   "execution_count": 20,
   "metadata": {},
   "outputs": [
    {
     "name": "stdout",
     "output_type": "stream",
     "text": [
      "Mini Batch Gradient Descent...\n",
      "Total cost after iteration 0: 8.866169\n",
      "Total cost after iteration 5: 5.888320\n",
      "Total cost after iteration 10: 4.606752\n",
      "Total cost after iteration 15: 3.752474\n",
      "Total cost after iteration 20: 3.127845\n",
      "Total cost after iteration 25: 2.656395\n",
      "Total cost after iteration 30: 2.283815\n",
      "Total cost after iteration 35: 1.996886\n",
      "Total cost after iteration 40: 1.771306\n",
      "Total cost after iteration 45: 1.590528\n",
      "Total cost after iteration 50: 1.453817\n",
      "Total cost after iteration 55: 1.339901\n",
      "Total cost after iteration 60: 1.251343\n",
      "Total cost after iteration 65: 1.185261\n",
      "Total cost after iteration 70: 1.131360\n",
      "Total cost after iteration 75: 1.087421\n",
      "Total cost after iteration 80: 1.051891\n",
      "Total cost after iteration 85: 1.031698\n",
      "Total cost after iteration 90: 1.006638\n"
     ]
    },
    {
     "data": {
      "image/png": "[encoded data removed]",
      "text/plain": [
       "<Figure size 432x288 with 1 Axes>"
      ]
     },
     "metadata": {
      "needs_background": "light"
     },
     "output_type": "display_data"
    },
    {
     "data": {
      "text/plain": [
       "<__main__.NN at 0x1aaa03c57b8>"
      ]
     },
     "execution_count": 20,
     "metadata": {},
     "output_type": "execute_result"
    }
   ],
   "source": [
    "%run NN_V1.py\n",
    "NN_classifier = NN(L_dim = [X_train_standard_pca.shape[0], 100,10],\n",
    "                   initialization=\"he\",activation=\"leaky_relu\",\n",
    "                      learning_rate = 0.0001,num_iterations = 300,early_stop=True, cost_stop=0.8,\n",
    "                      batch=False, mini_batch=True,mini_batch_size=256,\n",
    "                      optimizer=\"adam\", beta = 0.9, beta1 = 0.9, beta2 = 0.999,  epsilon = 1e-8,\n",
    "                      lambd=0.5,keep_prob = 0.7,\n",
    "                      batchnormalization = True,\n",
    "                      print_cost = True, print_cost_every_n_iterations=10)\n",
    "NN_classifier.fit(X_train_standard_pca, y_train)"
   ]
  },
  {
   "cell_type": "code",
   "execution_count": 21,
   "metadata": {},
   "outputs": [
    {
     "name": "stdout",
     "output_type": "stream",
     "text": [
      "Accuracy: 0.8607000000000002\n"
     ]
    }
   ],
   "source": [
    "pred_train = NN_classifier.predict(X_test_standard_pca, y_test)"
   ]
  }
 ],
 "metadata": {
  "kernelspec": {
   "display_name": "Python 3",
   "language": "python",
   "name": "python3"
  },
  "language_info": {
   "codemirror_mode": {
    "name": "ipython",
    "version": 3
   },
   "file_extension": ".py",
   "mimetype": "text/x-python",
   "name": "python",
   "nbconvert_exporter": "python",
   "pygments_lexer": "ipython3",
   "version": "3.6.8"
  }
 },
 "nbformat": 4,
 "nbformat_minor": 2
}
